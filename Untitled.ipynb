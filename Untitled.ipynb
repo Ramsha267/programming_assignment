{
 "cells": [
  {
   "cell_type": "code",
   "execution_count": 3,
   "id": "2a2c257c-dd95-4dd6-88ce-f384b424ca2a",
   "metadata": {},
   "outputs": [
    {
     "name": "stdout",
     "output_type": "stream",
     "text": [
      "30\n"
     ]
    }
   ],
   "source": [
    "# Find the maximum of three numbers\n",
    "\n",
    "a, b, c = 10, 20, 30\n",
    "maximum= max(a, b, c)\n",
    "print(maximum)"
   ]
  },
  {
   "cell_type": "code",
   "execution_count": 5,
   "id": "d0f396c3-119a-49bf-94e8-f69809ef8299",
   "metadata": {},
   "outputs": [
    {
     "name": "stdout",
     "output_type": "stream",
     "text": [
      "ahsmar\n"
     ]
    }
   ],
   "source": [
    "# Write a python program to reverse a string.\n",
    "\n",
    "string = 'ramsha'\n",
    "reversed_string= string[::-1]\n",
    "print(reversed_string)"
   ]
  },
  {
   "cell_type": "code",
   "execution_count": 6,
   "id": "05f4e6a0-68a7-407d-93a9-073da35c5348",
   "metadata": {},
   "outputs": [
    {
     "name": "stdout",
     "output_type": "stream",
     "text": [
      "[1, 4, 9, 16, 25, 36, 49, 64, 81, 100, 121, 144, 169, 196, 225, 256, 289, 324, 361, 400, 441, 484, 529, 576, 625, 676, 729, 784, 841, 900]\n"
     ]
    }
   ],
   "source": [
    "# Create and print a list of squares for numbers 01 to 30\n",
    "\n",
    "squares = [i**2 for i in range(1, 31)]\n",
    "print(squares)"
   ]
  },
  {
   "cell_type": "code",
   "execution_count": null,
   "id": "dd43ee5f-fbb2-4259-aabd-af3ecc3f3521",
   "metadata": {},
   "outputs": [],
   "source": []
  }
 ],
 "metadata": {
  "kernelspec": {
   "display_name": "Python 3 (ipykernel)",
   "language": "python",
   "name": "python3"
  },
  "language_info": {
   "codemirror_mode": {
    "name": "ipython",
    "version": 3
   },
   "file_extension": ".py",
   "mimetype": "text/x-python",
   "name": "python",
   "nbconvert_exporter": "python",
   "pygments_lexer": "ipython3",
   "version": "3.12.4"
  }
 },
 "nbformat": 4,
 "nbformat_minor": 5
}
